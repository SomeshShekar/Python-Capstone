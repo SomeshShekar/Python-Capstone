{
  "nbformat": 4,
  "nbformat_minor": 0,
  "metadata": {
    "colab": {
      "provenance": []
    },
    "kernelspec": {
      "name": "python3",
      "display_name": "Python 3"
    },
    "language_info": {
      "name": "python"
    }
  },
  "cells": [
    {
      "cell_type": "code",
      "execution_count": null,
      "metadata": {
        "id": "VF69j43du1_9"
      },
      "outputs": [],
      "source": []
    },
    {
      "cell_type": "markdown",
      "source": [
        "Uploaded the generated csv files"
      ],
      "metadata": {
        "id": "lAaoGDYovI5E"
      }
    },
    {
      "cell_type": "code",
      "source": [
        "from google.colab import files\n",
        "uploaded = files.upload()\n"
      ],
      "metadata": {
        "colab": {
          "base_uri": "https://localhost:8080/",
          "height": 142
        },
        "id": "DRd7Yiu3u8VB",
        "outputId": "8ed4196a-bc9c-4773-c628-e5edcc6db69e"
      },
      "execution_count": 1,
      "outputs": [
        {
          "output_type": "display_data",
          "data": {
            "text/plain": [
              "<IPython.core.display.HTML object>"
            ],
            "text/html": [
              "\n",
              "     <input type=\"file\" id=\"files-6bea6ca4-c401-4665-acce-d63e1c93e45d\" name=\"files[]\" multiple disabled\n",
              "        style=\"border:none\" />\n",
              "     <output id=\"result-6bea6ca4-c401-4665-acce-d63e1c93e45d\">\n",
              "      Upload widget is only available when the cell has been executed in the\n",
              "      current browser session. Please rerun this cell to enable.\n",
              "      </output>\n",
              "      <script>// Copyright 2017 Google LLC\n",
              "//\n",
              "// Licensed under the Apache License, Version 2.0 (the \"License\");\n",
              "// you may not use this file except in compliance with the License.\n",
              "// You may obtain a copy of the License at\n",
              "//\n",
              "//      http://www.apache.org/licenses/LICENSE-2.0\n",
              "//\n",
              "// Unless required by applicable law or agreed to in writing, software\n",
              "// distributed under the License is distributed on an \"AS IS\" BASIS,\n",
              "// WITHOUT WARRANTIES OR CONDITIONS OF ANY KIND, either express or implied.\n",
              "// See the License for the specific language governing permissions and\n",
              "// limitations under the License.\n",
              "\n",
              "/**\n",
              " * @fileoverview Helpers for google.colab Python module.\n",
              " */\n",
              "(function(scope) {\n",
              "function span(text, styleAttributes = {}) {\n",
              "  const element = document.createElement('span');\n",
              "  element.textContent = text;\n",
              "  for (const key of Object.keys(styleAttributes)) {\n",
              "    element.style[key] = styleAttributes[key];\n",
              "  }\n",
              "  return element;\n",
              "}\n",
              "\n",
              "// Max number of bytes which will be uploaded at a time.\n",
              "const MAX_PAYLOAD_SIZE = 100 * 1024;\n",
              "\n",
              "function _uploadFiles(inputId, outputId) {\n",
              "  const steps = uploadFilesStep(inputId, outputId);\n",
              "  const outputElement = document.getElementById(outputId);\n",
              "  // Cache steps on the outputElement to make it available for the next call\n",
              "  // to uploadFilesContinue from Python.\n",
              "  outputElement.steps = steps;\n",
              "\n",
              "  return _uploadFilesContinue(outputId);\n",
              "}\n",
              "\n",
              "// This is roughly an async generator (not supported in the browser yet),\n",
              "// where there are multiple asynchronous steps and the Python side is going\n",
              "// to poll for completion of each step.\n",
              "// This uses a Promise to block the python side on completion of each step,\n",
              "// then passes the result of the previous step as the input to the next step.\n",
              "function _uploadFilesContinue(outputId) {\n",
              "  const outputElement = document.getElementById(outputId);\n",
              "  const steps = outputElement.steps;\n",
              "\n",
              "  const next = steps.next(outputElement.lastPromiseValue);\n",
              "  return Promise.resolve(next.value.promise).then((value) => {\n",
              "    // Cache the last promise value to make it available to the next\n",
              "    // step of the generator.\n",
              "    outputElement.lastPromiseValue = value;\n",
              "    return next.value.response;\n",
              "  });\n",
              "}\n",
              "\n",
              "/**\n",
              " * Generator function which is called between each async step of the upload\n",
              " * process.\n",
              " * @param {string} inputId Element ID of the input file picker element.\n",
              " * @param {string} outputId Element ID of the output display.\n",
              " * @return {!Iterable<!Object>} Iterable of next steps.\n",
              " */\n",
              "function* uploadFilesStep(inputId, outputId) {\n",
              "  const inputElement = document.getElementById(inputId);\n",
              "  inputElement.disabled = false;\n",
              "\n",
              "  const outputElement = document.getElementById(outputId);\n",
              "  outputElement.innerHTML = '';\n",
              "\n",
              "  const pickedPromise = new Promise((resolve) => {\n",
              "    inputElement.addEventListener('change', (e) => {\n",
              "      resolve(e.target.files);\n",
              "    });\n",
              "  });\n",
              "\n",
              "  const cancel = document.createElement('button');\n",
              "  inputElement.parentElement.appendChild(cancel);\n",
              "  cancel.textContent = 'Cancel upload';\n",
              "  const cancelPromise = new Promise((resolve) => {\n",
              "    cancel.onclick = () => {\n",
              "      resolve(null);\n",
              "    };\n",
              "  });\n",
              "\n",
              "  // Wait for the user to pick the files.\n",
              "  const files = yield {\n",
              "    promise: Promise.race([pickedPromise, cancelPromise]),\n",
              "    response: {\n",
              "      action: 'starting',\n",
              "    }\n",
              "  };\n",
              "\n",
              "  cancel.remove();\n",
              "\n",
              "  // Disable the input element since further picks are not allowed.\n",
              "  inputElement.disabled = true;\n",
              "\n",
              "  if (!files) {\n",
              "    return {\n",
              "      response: {\n",
              "        action: 'complete',\n",
              "      }\n",
              "    };\n",
              "  }\n",
              "\n",
              "  for (const file of files) {\n",
              "    const li = document.createElement('li');\n",
              "    li.append(span(file.name, {fontWeight: 'bold'}));\n",
              "    li.append(span(\n",
              "        `(${file.type || 'n/a'}) - ${file.size} bytes, ` +\n",
              "        `last modified: ${\n",
              "            file.lastModifiedDate ? file.lastModifiedDate.toLocaleDateString() :\n",
              "                                    'n/a'} - `));\n",
              "    const percent = span('0% done');\n",
              "    li.appendChild(percent);\n",
              "\n",
              "    outputElement.appendChild(li);\n",
              "\n",
              "    const fileDataPromise = new Promise((resolve) => {\n",
              "      const reader = new FileReader();\n",
              "      reader.onload = (e) => {\n",
              "        resolve(e.target.result);\n",
              "      };\n",
              "      reader.readAsArrayBuffer(file);\n",
              "    });\n",
              "    // Wait for the data to be ready.\n",
              "    let fileData = yield {\n",
              "      promise: fileDataPromise,\n",
              "      response: {\n",
              "        action: 'continue',\n",
              "      }\n",
              "    };\n",
              "\n",
              "    // Use a chunked sending to avoid message size limits. See b/62115660.\n",
              "    let position = 0;\n",
              "    do {\n",
              "      const length = Math.min(fileData.byteLength - position, MAX_PAYLOAD_SIZE);\n",
              "      const chunk = new Uint8Array(fileData, position, length);\n",
              "      position += length;\n",
              "\n",
              "      const base64 = btoa(String.fromCharCode.apply(null, chunk));\n",
              "      yield {\n",
              "        response: {\n",
              "          action: 'append',\n",
              "          file: file.name,\n",
              "          data: base64,\n",
              "        },\n",
              "      };\n",
              "\n",
              "      let percentDone = fileData.byteLength === 0 ?\n",
              "          100 :\n",
              "          Math.round((position / fileData.byteLength) * 100);\n",
              "      percent.textContent = `${percentDone}% done`;\n",
              "\n",
              "    } while (position < fileData.byteLength);\n",
              "  }\n",
              "\n",
              "  // All done.\n",
              "  yield {\n",
              "    response: {\n",
              "      action: 'complete',\n",
              "    }\n",
              "  };\n",
              "}\n",
              "\n",
              "scope.google = scope.google || {};\n",
              "scope.google.colab = scope.google.colab || {};\n",
              "scope.google.colab._files = {\n",
              "  _uploadFiles,\n",
              "  _uploadFilesContinue,\n",
              "};\n",
              "})(self);\n",
              "</script> "
            ]
          },
          "metadata": {}
        },
        {
          "output_type": "stream",
          "name": "stdout",
          "text": [
            "Saving Employee.csv to Employee.csv\n",
            "Saving Project.csv to Project.csv\n",
            "Saving Seniority.csv to Seniority.csv\n"
          ]
        }
      ]
    },
    {
      "cell_type": "markdown",
      "source": [
        "Loaded the csv files using Pandas"
      ],
      "metadata": {
        "id": "lsjjkcwsvYbA"
      }
    },
    {
      "cell_type": "markdown",
      "source": [
        "**Task 1**\n",
        "\n",
        "There are three different tables as given above. Please make three dataframe in python\n",
        "and save them as three .csv files. From Task 2 to Task 10, use the saved .csv files only.\n"
      ],
      "metadata": {
        "id": "7RFaj7yu1arq"
      }
    },
    {
      "cell_type": "code",
      "source": [
        "import pandas as pd\n",
        "df1 = pd.read_csv('Employee.csv')\n",
        "df2 = pd.read_csv('Project.csv')\n",
        "df3 = pd.read_csv('Seniority.csv')\n"
      ],
      "metadata": {
        "id": "eyovQGuFvHQJ"
      },
      "execution_count": 2,
      "outputs": []
    },
    {
      "cell_type": "code",
      "source": [
        "from google.colab import files\n",
        "uploaded = files.upload()\n"
      ],
      "metadata": {
        "colab": {
          "base_uri": "https://localhost:8080/",
          "height": 73
        },
        "id": "wJKy-2aLveku",
        "outputId": "4fc27bb2-2e2e-419f-c1dd-bafba860f7ea"
      },
      "execution_count": 5,
      "outputs": [
        {
          "output_type": "display_data",
          "data": {
            "text/plain": [
              "<IPython.core.display.HTML object>"
            ],
            "text/html": [
              "\n",
              "     <input type=\"file\" id=\"files-db850ebc-b858-411a-b1a3-8e0d1bd05c20\" name=\"files[]\" multiple disabled\n",
              "        style=\"border:none\" />\n",
              "     <output id=\"result-db850ebc-b858-411a-b1a3-8e0d1bd05c20\">\n",
              "      Upload widget is only available when the cell has been executed in the\n",
              "      current browser session. Please rerun this cell to enable.\n",
              "      </output>\n",
              "      <script>// Copyright 2017 Google LLC\n",
              "//\n",
              "// Licensed under the Apache License, Version 2.0 (the \"License\");\n",
              "// you may not use this file except in compliance with the License.\n",
              "// You may obtain a copy of the License at\n",
              "//\n",
              "//      http://www.apache.org/licenses/LICENSE-2.0\n",
              "//\n",
              "// Unless required by applicable law or agreed to in writing, software\n",
              "// distributed under the License is distributed on an \"AS IS\" BASIS,\n",
              "// WITHOUT WARRANTIES OR CONDITIONS OF ANY KIND, either express or implied.\n",
              "// See the License for the specific language governing permissions and\n",
              "// limitations under the License.\n",
              "\n",
              "/**\n",
              " * @fileoverview Helpers for google.colab Python module.\n",
              " */\n",
              "(function(scope) {\n",
              "function span(text, styleAttributes = {}) {\n",
              "  const element = document.createElement('span');\n",
              "  element.textContent = text;\n",
              "  for (const key of Object.keys(styleAttributes)) {\n",
              "    element.style[key] = styleAttributes[key];\n",
              "  }\n",
              "  return element;\n",
              "}\n",
              "\n",
              "// Max number of bytes which will be uploaded at a time.\n",
              "const MAX_PAYLOAD_SIZE = 100 * 1024;\n",
              "\n",
              "function _uploadFiles(inputId, outputId) {\n",
              "  const steps = uploadFilesStep(inputId, outputId);\n",
              "  const outputElement = document.getElementById(outputId);\n",
              "  // Cache steps on the outputElement to make it available for the next call\n",
              "  // to uploadFilesContinue from Python.\n",
              "  outputElement.steps = steps;\n",
              "\n",
              "  return _uploadFilesContinue(outputId);\n",
              "}\n",
              "\n",
              "// This is roughly an async generator (not supported in the browser yet),\n",
              "// where there are multiple asynchronous steps and the Python side is going\n",
              "// to poll for completion of each step.\n",
              "// This uses a Promise to block the python side on completion of each step,\n",
              "// then passes the result of the previous step as the input to the next step.\n",
              "function _uploadFilesContinue(outputId) {\n",
              "  const outputElement = document.getElementById(outputId);\n",
              "  const steps = outputElement.steps;\n",
              "\n",
              "  const next = steps.next(outputElement.lastPromiseValue);\n",
              "  return Promise.resolve(next.value.promise).then((value) => {\n",
              "    // Cache the last promise value to make it available to the next\n",
              "    // step of the generator.\n",
              "    outputElement.lastPromiseValue = value;\n",
              "    return next.value.response;\n",
              "  });\n",
              "}\n",
              "\n",
              "/**\n",
              " * Generator function which is called between each async step of the upload\n",
              " * process.\n",
              " * @param {string} inputId Element ID of the input file picker element.\n",
              " * @param {string} outputId Element ID of the output display.\n",
              " * @return {!Iterable<!Object>} Iterable of next steps.\n",
              " */\n",
              "function* uploadFilesStep(inputId, outputId) {\n",
              "  const inputElement = document.getElementById(inputId);\n",
              "  inputElement.disabled = false;\n",
              "\n",
              "  const outputElement = document.getElementById(outputId);\n",
              "  outputElement.innerHTML = '';\n",
              "\n",
              "  const pickedPromise = new Promise((resolve) => {\n",
              "    inputElement.addEventListener('change', (e) => {\n",
              "      resolve(e.target.files);\n",
              "    });\n",
              "  });\n",
              "\n",
              "  const cancel = document.createElement('button');\n",
              "  inputElement.parentElement.appendChild(cancel);\n",
              "  cancel.textContent = 'Cancel upload';\n",
              "  const cancelPromise = new Promise((resolve) => {\n",
              "    cancel.onclick = () => {\n",
              "      resolve(null);\n",
              "    };\n",
              "  });\n",
              "\n",
              "  // Wait for the user to pick the files.\n",
              "  const files = yield {\n",
              "    promise: Promise.race([pickedPromise, cancelPromise]),\n",
              "    response: {\n",
              "      action: 'starting',\n",
              "    }\n",
              "  };\n",
              "\n",
              "  cancel.remove();\n",
              "\n",
              "  // Disable the input element since further picks are not allowed.\n",
              "  inputElement.disabled = true;\n",
              "\n",
              "  if (!files) {\n",
              "    return {\n",
              "      response: {\n",
              "        action: 'complete',\n",
              "      }\n",
              "    };\n",
              "  }\n",
              "\n",
              "  for (const file of files) {\n",
              "    const li = document.createElement('li');\n",
              "    li.append(span(file.name, {fontWeight: 'bold'}));\n",
              "    li.append(span(\n",
              "        `(${file.type || 'n/a'}) - ${file.size} bytes, ` +\n",
              "        `last modified: ${\n",
              "            file.lastModifiedDate ? file.lastModifiedDate.toLocaleDateString() :\n",
              "                                    'n/a'} - `));\n",
              "    const percent = span('0% done');\n",
              "    li.appendChild(percent);\n",
              "\n",
              "    outputElement.appendChild(li);\n",
              "\n",
              "    const fileDataPromise = new Promise((resolve) => {\n",
              "      const reader = new FileReader();\n",
              "      reader.onload = (e) => {\n",
              "        resolve(e.target.result);\n",
              "      };\n",
              "      reader.readAsArrayBuffer(file);\n",
              "    });\n",
              "    // Wait for the data to be ready.\n",
              "    let fileData = yield {\n",
              "      promise: fileDataPromise,\n",
              "      response: {\n",
              "        action: 'continue',\n",
              "      }\n",
              "    };\n",
              "\n",
              "    // Use a chunked sending to avoid message size limits. See b/62115660.\n",
              "    let position = 0;\n",
              "    do {\n",
              "      const length = Math.min(fileData.byteLength - position, MAX_PAYLOAD_SIZE);\n",
              "      const chunk = new Uint8Array(fileData, position, length);\n",
              "      position += length;\n",
              "\n",
              "      const base64 = btoa(String.fromCharCode.apply(null, chunk));\n",
              "      yield {\n",
              "        response: {\n",
              "          action: 'append',\n",
              "          file: file.name,\n",
              "          data: base64,\n",
              "        },\n",
              "      };\n",
              "\n",
              "      let percentDone = fileData.byteLength === 0 ?\n",
              "          100 :\n",
              "          Math.round((position / fileData.byteLength) * 100);\n",
              "      percent.textContent = `${percentDone}% done`;\n",
              "\n",
              "    } while (position < fileData.byteLength);\n",
              "  }\n",
              "\n",
              "  // All done.\n",
              "  yield {\n",
              "    response: {\n",
              "      action: 'complete',\n",
              "    }\n",
              "  };\n",
              "}\n",
              "\n",
              "scope.google = scope.google || {};\n",
              "scope.google.colab = scope.google.colab || {};\n",
              "scope.google.colab._files = {\n",
              "  _uploadFiles,\n",
              "  _uploadFilesContinue,\n",
              "};\n",
              "})(self);\n",
              "</script> "
            ]
          },
          "metadata": {}
        },
        {
          "output_type": "stream",
          "name": "stdout",
          "text": [
            "Saving Project.csv to Project (1).csv\n"
          ]
        }
      ]
    },
    {
      "cell_type": "code",
      "source": [
        "from google.colab import drive\n",
        "drive.mount('/content/drive')\n",
        "\n",
        "df = pd.read_csv('/content/drive/My Drive/Python Capstone - Skillovilla/Project.csv')  # Adjust the path\n"
      ],
      "metadata": {
        "colab": {
          "base_uri": "https://localhost:8080/",
          "height": 356
        },
        "id": "mVOAlvpAyjfF",
        "outputId": "5e06c899-7500-4b79-9e16-ea30e53d5468"
      },
      "execution_count": 19,
      "outputs": [
        {
          "output_type": "stream",
          "name": "stdout",
          "text": [
            "Drive already mounted at /content/drive; to attempt to forcibly remount, call drive.mount(\"/content/drive\", force_remount=True).\n"
          ]
        },
        {
          "output_type": "error",
          "ename": "FileNotFoundError",
          "evalue": "[Errno 2] No such file or directory: '/content/drive/My Drive/Python Capstone - Skillovilla/Project.csv'",
          "traceback": [
            "\u001b[0;31m---------------------------------------------------------------------------\u001b[0m",
            "\u001b[0;31mFileNotFoundError\u001b[0m                         Traceback (most recent call last)",
            "\u001b[0;32m<ipython-input-19-c4f807f2bcf0>\u001b[0m in \u001b[0;36m<cell line: 0>\u001b[0;34m()\u001b[0m\n\u001b[1;32m      2\u001b[0m \u001b[0mdrive\u001b[0m\u001b[0;34m.\u001b[0m\u001b[0mmount\u001b[0m\u001b[0;34m(\u001b[0m\u001b[0;34m'/content/drive'\u001b[0m\u001b[0;34m)\u001b[0m\u001b[0;34m\u001b[0m\u001b[0;34m\u001b[0m\u001b[0m\n\u001b[1;32m      3\u001b[0m \u001b[0;34m\u001b[0m\u001b[0m\n\u001b[0;32m----> 4\u001b[0;31m \u001b[0mdf\u001b[0m \u001b[0;34m=\u001b[0m \u001b[0mpd\u001b[0m\u001b[0;34m.\u001b[0m\u001b[0mread_csv\u001b[0m\u001b[0;34m(\u001b[0m\u001b[0;34m'/content/drive/My Drive/Python Capstone - Skillovilla/Project.csv'\u001b[0m\u001b[0;34m)\u001b[0m  \u001b[0;31m# Adjust the path\u001b[0m\u001b[0;34m\u001b[0m\u001b[0;34m\u001b[0m\u001b[0m\n\u001b[0m",
            "\u001b[0;32m/usr/local/lib/python3.11/dist-packages/pandas/io/parsers/readers.py\u001b[0m in \u001b[0;36mread_csv\u001b[0;34m(filepath_or_buffer, sep, delimiter, header, names, index_col, usecols, dtype, engine, converters, true_values, false_values, skipinitialspace, skiprows, skipfooter, nrows, na_values, keep_default_na, na_filter, verbose, skip_blank_lines, parse_dates, infer_datetime_format, keep_date_col, date_parser, date_format, dayfirst, cache_dates, iterator, chunksize, compression, thousands, decimal, lineterminator, quotechar, quoting, doublequote, escapechar, comment, encoding, encoding_errors, dialect, on_bad_lines, delim_whitespace, low_memory, memory_map, float_precision, storage_options, dtype_backend)\u001b[0m\n\u001b[1;32m   1024\u001b[0m     \u001b[0mkwds\u001b[0m\u001b[0;34m.\u001b[0m\u001b[0mupdate\u001b[0m\u001b[0;34m(\u001b[0m\u001b[0mkwds_defaults\u001b[0m\u001b[0;34m)\u001b[0m\u001b[0;34m\u001b[0m\u001b[0;34m\u001b[0m\u001b[0m\n\u001b[1;32m   1025\u001b[0m \u001b[0;34m\u001b[0m\u001b[0m\n\u001b[0;32m-> 1026\u001b[0;31m     \u001b[0;32mreturn\u001b[0m \u001b[0m_read\u001b[0m\u001b[0;34m(\u001b[0m\u001b[0mfilepath_or_buffer\u001b[0m\u001b[0;34m,\u001b[0m \u001b[0mkwds\u001b[0m\u001b[0;34m)\u001b[0m\u001b[0;34m\u001b[0m\u001b[0;34m\u001b[0m\u001b[0m\n\u001b[0m\u001b[1;32m   1027\u001b[0m \u001b[0;34m\u001b[0m\u001b[0m\n\u001b[1;32m   1028\u001b[0m \u001b[0;34m\u001b[0m\u001b[0m\n",
            "\u001b[0;32m/usr/local/lib/python3.11/dist-packages/pandas/io/parsers/readers.py\u001b[0m in \u001b[0;36m_read\u001b[0;34m(filepath_or_buffer, kwds)\u001b[0m\n\u001b[1;32m    618\u001b[0m \u001b[0;34m\u001b[0m\u001b[0m\n\u001b[1;32m    619\u001b[0m     \u001b[0;31m# Create the parser.\u001b[0m\u001b[0;34m\u001b[0m\u001b[0;34m\u001b[0m\u001b[0m\n\u001b[0;32m--> 620\u001b[0;31m     \u001b[0mparser\u001b[0m \u001b[0;34m=\u001b[0m \u001b[0mTextFileReader\u001b[0m\u001b[0;34m(\u001b[0m\u001b[0mfilepath_or_buffer\u001b[0m\u001b[0;34m,\u001b[0m \u001b[0;34m**\u001b[0m\u001b[0mkwds\u001b[0m\u001b[0;34m)\u001b[0m\u001b[0;34m\u001b[0m\u001b[0;34m\u001b[0m\u001b[0m\n\u001b[0m\u001b[1;32m    621\u001b[0m \u001b[0;34m\u001b[0m\u001b[0m\n\u001b[1;32m    622\u001b[0m     \u001b[0;32mif\u001b[0m \u001b[0mchunksize\u001b[0m \u001b[0;32mor\u001b[0m \u001b[0miterator\u001b[0m\u001b[0;34m:\u001b[0m\u001b[0;34m\u001b[0m\u001b[0;34m\u001b[0m\u001b[0m\n",
            "\u001b[0;32m/usr/local/lib/python3.11/dist-packages/pandas/io/parsers/readers.py\u001b[0m in \u001b[0;36m__init__\u001b[0;34m(self, f, engine, **kwds)\u001b[0m\n\u001b[1;32m   1618\u001b[0m \u001b[0;34m\u001b[0m\u001b[0m\n\u001b[1;32m   1619\u001b[0m         \u001b[0mself\u001b[0m\u001b[0;34m.\u001b[0m\u001b[0mhandles\u001b[0m\u001b[0;34m:\u001b[0m \u001b[0mIOHandles\u001b[0m \u001b[0;34m|\u001b[0m \u001b[0;32mNone\u001b[0m \u001b[0;34m=\u001b[0m \u001b[0;32mNone\u001b[0m\u001b[0;34m\u001b[0m\u001b[0;34m\u001b[0m\u001b[0m\n\u001b[0;32m-> 1620\u001b[0;31m         \u001b[0mself\u001b[0m\u001b[0;34m.\u001b[0m\u001b[0m_engine\u001b[0m \u001b[0;34m=\u001b[0m \u001b[0mself\u001b[0m\u001b[0;34m.\u001b[0m\u001b[0m_make_engine\u001b[0m\u001b[0;34m(\u001b[0m\u001b[0mf\u001b[0m\u001b[0;34m,\u001b[0m \u001b[0mself\u001b[0m\u001b[0;34m.\u001b[0m\u001b[0mengine\u001b[0m\u001b[0;34m)\u001b[0m\u001b[0;34m\u001b[0m\u001b[0;34m\u001b[0m\u001b[0m\n\u001b[0m\u001b[1;32m   1621\u001b[0m \u001b[0;34m\u001b[0m\u001b[0m\n\u001b[1;32m   1622\u001b[0m     \u001b[0;32mdef\u001b[0m \u001b[0mclose\u001b[0m\u001b[0;34m(\u001b[0m\u001b[0mself\u001b[0m\u001b[0;34m)\u001b[0m \u001b[0;34m->\u001b[0m \u001b[0;32mNone\u001b[0m\u001b[0;34m:\u001b[0m\u001b[0;34m\u001b[0m\u001b[0;34m\u001b[0m\u001b[0m\n",
            "\u001b[0;32m/usr/local/lib/python3.11/dist-packages/pandas/io/parsers/readers.py\u001b[0m in \u001b[0;36m_make_engine\u001b[0;34m(self, f, engine)\u001b[0m\n\u001b[1;32m   1878\u001b[0m                 \u001b[0;32mif\u001b[0m \u001b[0;34m\"b\"\u001b[0m \u001b[0;32mnot\u001b[0m \u001b[0;32min\u001b[0m \u001b[0mmode\u001b[0m\u001b[0;34m:\u001b[0m\u001b[0;34m\u001b[0m\u001b[0;34m\u001b[0m\u001b[0m\n\u001b[1;32m   1879\u001b[0m                     \u001b[0mmode\u001b[0m \u001b[0;34m+=\u001b[0m \u001b[0;34m\"b\"\u001b[0m\u001b[0;34m\u001b[0m\u001b[0;34m\u001b[0m\u001b[0m\n\u001b[0;32m-> 1880\u001b[0;31m             self.handles = get_handle(\n\u001b[0m\u001b[1;32m   1881\u001b[0m                 \u001b[0mf\u001b[0m\u001b[0;34m,\u001b[0m\u001b[0;34m\u001b[0m\u001b[0;34m\u001b[0m\u001b[0m\n\u001b[1;32m   1882\u001b[0m                 \u001b[0mmode\u001b[0m\u001b[0;34m,\u001b[0m\u001b[0;34m\u001b[0m\u001b[0;34m\u001b[0m\u001b[0m\n",
            "\u001b[0;32m/usr/local/lib/python3.11/dist-packages/pandas/io/common.py\u001b[0m in \u001b[0;36mget_handle\u001b[0;34m(path_or_buf, mode, encoding, compression, memory_map, is_text, errors, storage_options)\u001b[0m\n\u001b[1;32m    871\u001b[0m         \u001b[0;32mif\u001b[0m \u001b[0mioargs\u001b[0m\u001b[0;34m.\u001b[0m\u001b[0mencoding\u001b[0m \u001b[0;32mand\u001b[0m \u001b[0;34m\"b\"\u001b[0m \u001b[0;32mnot\u001b[0m \u001b[0;32min\u001b[0m \u001b[0mioargs\u001b[0m\u001b[0;34m.\u001b[0m\u001b[0mmode\u001b[0m\u001b[0;34m:\u001b[0m\u001b[0;34m\u001b[0m\u001b[0;34m\u001b[0m\u001b[0m\n\u001b[1;32m    872\u001b[0m             \u001b[0;31m# Encoding\u001b[0m\u001b[0;34m\u001b[0m\u001b[0;34m\u001b[0m\u001b[0m\n\u001b[0;32m--> 873\u001b[0;31m             handle = open(\n\u001b[0m\u001b[1;32m    874\u001b[0m                 \u001b[0mhandle\u001b[0m\u001b[0;34m,\u001b[0m\u001b[0;34m\u001b[0m\u001b[0;34m\u001b[0m\u001b[0m\n\u001b[1;32m    875\u001b[0m                 \u001b[0mioargs\u001b[0m\u001b[0;34m.\u001b[0m\u001b[0mmode\u001b[0m\u001b[0;34m,\u001b[0m\u001b[0;34m\u001b[0m\u001b[0;34m\u001b[0m\u001b[0m\n",
            "\u001b[0;31mFileNotFoundError\u001b[0m: [Errno 2] No such file or directory: '/content/drive/My Drive/Python Capstone - Skillovilla/Project.csv'"
          ]
        }
      ]
    },
    {
      "cell_type": "code",
      "source": [
        "import os\n",
        "\n",
        "# Check files in the target folder\n",
        "path = \"/content/drive/My Drive/Python Capstone - Skillovilla/\"\n",
        "print(os.listdir(path))\n"
      ],
      "metadata": {
        "colab": {
          "base_uri": "https://localhost:8080/"
        },
        "id": "cKJXmjM-y9bh",
        "outputId": "375e719d-e952-484a-c1cd-1f6fb668d9e8"
      },
      "execution_count": 42,
      "outputs": [
        {
          "output_type": "stream",
          "name": "stdout",
          "text": [
            "['Capstone project - Python Fundamentals.pdf', 'Employee.csv', 'Project.csv', 'Seniority.csv', 'Updated_Project.csv', 'Updated_Employee.csv', 'Final.csv', 'Final_with_Bonus.csv', 'Demoted.csv', 'Final_Demoted.csv']\n"
          ]
        }
      ]
    },
    {
      "cell_type": "markdown",
      "source": [
        "**Task 2**\n",
        "\n",
        "The cost column in the dataframe “Project” has some missing values. Your task is to\n",
        "compute these missing values. Replace the missing values by running average. You\n",
        "should use the “For” loop for this task."
      ],
      "metadata": {
        "id": "i3_Inb7Q1O5N"
      }
    },
    {
      "cell_type": "code",
      "source": [
        "import pandas as pd\n",
        "from google.colab import drive\n",
        "import os\n",
        "\n",
        "# Mount Google Drive\n",
        "drive.mount('/content/drive', force_remount=True)\n",
        "\n",
        "# Define the correct file path\n",
        "file_path = \"/content/drive/My Drive/Python Capstone - Skillovilla/Project.csv\"\n",
        "\n",
        "# Check if the file exists\n",
        "if not os.path.exists(file_path):\n",
        "    print(f\"Error: File '{file_path}' not found. Please check the path.\")\n",
        "else:\n",
        "    # Load the CSV file\n",
        "    df = pd.read_csv(file_path)\n",
        "\n",
        "    # Check for missing values in the \"cost\" column\n",
        "    if \"Cost\" not in df.columns:\n",
        "        print(\"Column 'cost' not found in the dataset.\")\n",
        "    else:\n",
        "        # Convert to numeric (in case of non-numeric values)\n",
        "        df['Cost'] = pd.to_numeric(df['Cost'], errors='coerce')\n",
        "\n",
        "        # Compute running average using a for loop\n",
        "        running_sum = 0\n",
        "        count = 0\n",
        "\n",
        "        for i in range(len(df)):\n",
        "            if pd.isna(df.loc[i, 'Cost']):\n",
        "                if count > 0:\n",
        "                    df.loc[i, 'Cost'] = running_sum / count  # Replace with running average\n",
        "            else:\n",
        "                running_sum += df.loc[i, 'Cost']\n",
        "                count += 1\n",
        "\n",
        "        # Display the updated dataframe\n",
        "        print(df.head())\n",
        "\n",
        "        # Save the modified CSV back to Google Drive\n",
        "        updated_file_path = \"/content/drive/My Drive/Python Capstone - Skillovilla/Updated_Project.csv\"\n",
        "        df.to_csv(updated_file_path, index=False)\n",
        "        print(f\"Updated file saved as '{updated_file_path}'\")\n"
      ],
      "metadata": {
        "colab": {
          "base_uri": "https://localhost:8080/"
        },
        "id": "Xp9ijNfJzQmI",
        "outputId": "c8be88ad-af2f-44b1-e9a6-7eabe585a04d"
      },
      "execution_count": 21,
      "outputs": [
        {
          "output_type": "stream",
          "name": "stdout",
          "text": [
            "Mounted at /content/drive\n",
            "      ID             Project       Cost    Status\n",
            "0     A001       Project 1    1002000.0  Finished\n",
            "1   A002         Project 2    2000000.0   Ongoing\n",
            "2  A003          Project 3    4500000.0  Finished\n",
            "3  A004           Project 4   5500000.0   Ongoing\n",
            "4  A005     Project 5         3250500.0  Finished\n",
            "Updated file saved as '/content/drive/My Drive/Python Capstone - Skillovilla/Updated_Project.csv'\n"
          ]
        }
      ]
    },
    {
      "cell_type": "markdown",
      "source": [
        "**Task 3**\n",
        "\n",
        "Split the name column in the Employee dataframe into two new columns “First Name”,\n",
        "and “LastName” and remove the older “name” column.\n"
      ],
      "metadata": {
        "id": "OIupPgAa1fCz"
      }
    },
    {
      "cell_type": "code",
      "source": [
        "import pandas as pd\n",
        "\n",
        "# Load the Employee.csv file\n",
        "file_path = \"/content/drive/My Drive/Python Capstone - Skillovilla/Employee.csv\"\n",
        "df = pd.read_csv(file_path)\n",
        "\n",
        "# Check if 'Name' column exists\n",
        "if \"Name\" in df.columns:\n",
        "    # Split only at the first space\n",
        "    df[['First Name', 'Last Name']] = df['Name'].str.split(' ', n=1, expand=True)\n",
        "\n",
        "    # Drop the original 'Name' column\n",
        "    df.drop(columns=['Name'], inplace=True)\n",
        "\n",
        "    # Display the updated DataFrame\n",
        "    print(df.head())\n",
        "\n",
        "    # Save the updated file\n",
        "    updated_file_path = \"/content/drive/My Drive/Python Capstone - Skillovilla/Updated_Employee.csv\"\n",
        "    df.to_csv(updated_file_path, index=False)\n",
        "    print(f\"Updated file saved as '{updated_file_path}'\")\n",
        "else:\n",
        "    print(\"Column 'Name' not found in the dataset.\")\n"
      ],
      "metadata": {
        "colab": {
          "base_uri": "https://localhost:8080/"
        },
        "id": "ikya5l061eHs",
        "outputId": "7c92d23b-2871-4106-91b9-f52fdb5f0d18"
      },
      "execution_count": 25,
      "outputs": [
        {
          "output_type": "stream",
          "name": "stdout",
          "text": [
            "       ID Gender       City  Age First Name   Last Name\n",
            "0    A001     M       Paris   25       John     Alter  \n",
            "1    A002      F     London   27      Alice  Luxumberg \n",
            "2    A003      M     Berlin   29        Tom  Sabestine \n",
            "3  A004        F  Newyork     31       Nina       Adgra\n",
            "4    A005    F       Madrid   30        Amy       Johny\n",
            "Updated file saved as '/content/drive/My Drive/Python Capstone - Skillovilla/Updated_Employee.csv'\n"
          ]
        }
      ]
    },
    {
      "cell_type": "markdown",
      "source": [
        "**Task 4**\n",
        "\n",
        "Join all three dataframes in one single dataframe. Name it “Final”"
      ],
      "metadata": {
        "id": "XOKBZzBD9nbw"
      }
    },
    {
      "cell_type": "code",
      "source": [
        "import pandas as pd\n",
        "\n",
        "# Define file paths\n",
        "employee_path = \"/content/drive/My Drive/Python Capstone - Skillovilla/Employee.csv\"\n",
        "project_path = \"/content/drive/My Drive/Python Capstone - Skillovilla/Project.csv\"\n",
        "department_path = \"/content/drive/My Drive/Python Capstone - Skillovilla/Seniority.csv\"  # Adjust if different\n",
        "\n",
        "# Load CSV files\n",
        "df_employee = pd.read_csv(employee_path)\n",
        "df_project = pd.read_csv(project_path)\n",
        "df_department = pd.read_csv(department_path)\n",
        "\n",
        "# Strip spaces from column names\n",
        "df_employee.columns = df_employee.columns.str.strip()\n",
        "df_project.columns = df_project.columns.str.strip()\n",
        "df_department.columns = df_department.columns.str.strip()\n",
        "\n",
        "# Print cleaned column names to verify\n",
        "print(\"Employee Columns:\", df_employee.columns.tolist())\n",
        "print(\"Project Columns:\", df_project.columns.tolist())\n",
        "print(\"Department Columns:\", df_department.columns.tolist())\n",
        "\n",
        "# Merge DataFrames on the cleaned \"ID\" column\n",
        "Final = df_employee.merge(df_project, on=\"ID\", how=\"inner\") \\\n",
        "                   .merge(df_department, on=\"ID\", how=\"inner\")\n",
        "\n",
        "# Display the first few rows\n",
        "print(Final.head())\n",
        "\n",
        "# Save the final DataFrame\n",
        "final_file_path = \"/content/drive/My Drive/Python Capstone - Skillovilla/Final.csv\"\n",
        "Final.to_csv(final_file_path, index=False)\n",
        "print(f\"Final dataset saved as '{final_file_path}'\")\n"
      ],
      "metadata": {
        "colab": {
          "base_uri": "https://localhost:8080/"
        },
        "id": "2Wly4qST9qs-",
        "outputId": "584f058a-df15-4fc1-bcd0-c0c292f6f4e6"
      },
      "execution_count": 29,
      "outputs": [
        {
          "output_type": "stream",
          "name": "stdout",
          "text": [
            "Employee Columns: ['ID', 'Name', 'Gender', 'City', 'Age']\n",
            "Project Columns: ['ID', 'Project', 'Cost', 'Status']\n",
            "Department Columns: ['ID', 'Designation  Level']\n",
            "Empty DataFrame\n",
            "Columns: [ID, Name, Gender, City, Age, Project, Cost, Status, Designation  Level]\n",
            "Index: []\n",
            "Final dataset saved as '/content/drive/My Drive/Python Capstone - Skillovilla/Final.csv'\n"
          ]
        }
      ]
    },
    {
      "cell_type": "markdown",
      "source": [
        "**Task 5**\n",
        "\n",
        "Add a new bonus column in the Final dataframe. Give a 5% bonus concerning project\n",
        "cost only to employees who have finished the projects."
      ],
      "metadata": {
        "id": "HSH8wt5AAqks"
      }
    },
    {
      "cell_type": "code",
      "source": [
        "import pandas as pd\n",
        "\n",
        "# Load the Final dataframe\n",
        "final_file_path = \"/content/drive/My Drive/Python Capstone - Skillovilla/Final.csv\"\n",
        "Final = pd.read_csv(final_file_path)\n",
        "\n",
        "# Clean column names\n",
        "Final.columns = Final.columns.str.strip()\n",
        "\n",
        "# Convert 'Cost' column to numeric\n",
        "Final['Cost'] = pd.to_numeric(Final['Cost'], errors='coerce')\n",
        "\n",
        "# Strip spaces and check unique values in 'Status' column\n",
        "Final['Status'] = Final['Status'].astype(str).str.strip()\n",
        "print(\"Unique values in 'Status':\", Final['Status'].unique())\n",
        "\n",
        "# Add Bonus column: 5% of Cost if Status is 'Finished'\n",
        "Final['Bonus'] = 0  # Default bonus = 0\n",
        "Final.loc[Final['Status'].str.lower() == 'finished', 'Bonus'] = Final['Cost'] * 0.05\n",
        "\n",
        "# Display the updated DataFrame\n",
        "print(Final.head())\n",
        "\n",
        "# Save the updated file\n",
        "updated_final_path = \"/content/drive/My Drive/Python Capstone - Skillovilla/Final_with_Bonus.csv\"\n",
        "Final.to_csv(updated_final_path, index=False)\n",
        "print(f\"Updated dataset with bonus saved as '{updated_final_path}'\")\n"
      ],
      "metadata": {
        "colab": {
          "base_uri": "https://localhost:8080/"
        },
        "id": "Uu10OT3DAuDZ",
        "outputId": "2c9bb709-1c69-4200-deb5-17c34c41a40f"
      },
      "execution_count": 31,
      "outputs": [
        {
          "output_type": "stream",
          "name": "stdout",
          "text": [
            "Unique values in 'Status': []\n",
            "Empty DataFrame\n",
            "Columns: [ID, Name, Gender, City, Age, Project, Cost, Status, Designation  Level, Bonus]\n",
            "Index: []\n",
            "Updated dataset with bonus saved as '/content/drive/My Drive/Python Capstone - Skillovilla/Final_with_Bonus.csv'\n"
          ]
        }
      ]
    },
    {
      "cell_type": "markdown",
      "source": [
        "**Task 6**\n",
        "\n",
        "Demote the designation level by 1, whose projects have status “fail”. Delete the\n",
        "employees record whose designation level is above 4."
      ],
      "metadata": {
        "id": "q4cgTUPTBJA2"
      }
    },
    {
      "cell_type": "code",
      "source": [
        "import pandas as pd\n",
        "\n",
        "# Load the Final dataframe\n",
        "final_file_path = \"/content/drive/My Drive/Python Capstone - Skillovilla/Final_with_Bonus.csv\"\n",
        "Final = pd.read_csv(final_file_path)\n",
        "\n",
        "# Strip spaces and print column names\n",
        "Final.columns = Final.columns.str.strip()\n",
        "print(\"Columns in dataset:\", Final.columns.tolist())  # Debugging step\n",
        "\n",
        "# Identify the correct column name\n",
        "correct_column = [col for col in Final.columns if \"designation\" in col.lower()]\n",
        "if correct_column:\n",
        "    correct_column = correct_column[0]  # Get the exact column name\n",
        "    print(f\"Using column: {correct_column}\")\n",
        "else:\n",
        "    raise KeyError(\"Designation Level column not found!\")\n",
        "\n",
        "# Convert 'Designation Level' to numeric\n",
        "Final[correct_column] = pd.to_numeric(Final[correct_column], errors='coerce')\n",
        "\n",
        "# Strip spaces from 'Status' column and check unique values\n",
        "Final['Status'] = Final['Status'].astype(str).str.strip()\n",
        "print(\"Unique values in 'Status':\", Final['Status'].unique())\n",
        "\n",
        "# **Step 1: Demote Designation Level by 1 if Status is 'Fail'**\n",
        "Final.loc[Final['Status'].str.lower() == 'fail', correct_column] -= 1\n",
        "\n",
        "# **Step 2: Remove Employees with Designation Level > 4**\n",
        "Final = Final[Final[correct_column] <= 4]\n",
        "\n",
        "# Display the updated DataFrame\n",
        "print(Final.head())\n",
        "\n",
        "# Save the updated file\n",
        "updated_final_path = \"/content/drive/My Drive/Python Capstone - Skillovilla/Final_Demoted.csv\"\n",
        "Final.to_csv(updated_final_path, index=False)\n",
        "print(f\"Updated dataset saved as '{updated_final_path}'\")\n"
      ],
      "metadata": {
        "colab": {
          "base_uri": "https://localhost:8080/"
        },
        "id": "oTcVh3tMBMnm",
        "outputId": "824062cf-0724-444c-ab0d-3946f1c605b4"
      },
      "execution_count": 33,
      "outputs": [
        {
          "output_type": "stream",
          "name": "stdout",
          "text": [
            "Columns in dataset: ['ID', 'Name', 'Gender', 'City', 'Age', 'Project', 'Cost', 'Status', 'Designation  Level', 'Bonus']\n",
            "Using column: Designation  Level\n",
            "Unique values in 'Status': []\n",
            "Empty DataFrame\n",
            "Columns: [ID, Name, Gender, City, Age, Project, Cost, Status, Designation  Level, Bonus]\n",
            "Index: []\n",
            "Updated dataset saved as '/content/drive/My Drive/Python Capstone - Skillovilla/Final_Demoted.csv'\n"
          ]
        }
      ]
    },
    {
      "cell_type": "markdown",
      "source": [
        "**Task 7**\n",
        "\n",
        "Add “Mr.” and “Mrs.” to the first name column and drop the gender column."
      ],
      "metadata": {
        "id": "eVbN9fIDBhfa"
      }
    },
    {
      "cell_type": "code",
      "source": [
        "import pandas as pd\n",
        "\n",
        "# Load the Final dataframe\n",
        "final_file_path = \"/content/drive/My Drive/Python Capstone - Skillovilla/Final_Demoted.csv\"\n",
        "Final = pd.read_csv(final_file_path)\n",
        "\n",
        "# Print actual column names\n",
        "print(\"Actual columns in dataset:\", Final.columns.tolist())  # Debugging step\n",
        "\n",
        "# Strip spaces from column names\n",
        "Final.columns = Final.columns.str.strip()\n",
        "\n",
        "# Check the first few rows to ensure 'Name' column is correctly read\n",
        "print(\"First few rows of the dataset:\")\n",
        "print(Final.head())\n",
        "\n",
        "# Check if there are leading or trailing spaces in 'Name' column\n",
        "print(\"Checking for leading/trailing spaces in 'Name' column:\")\n",
        "print(Final['Name'].head(10))  # Print first 10 rows of 'Name'\n",
        "\n",
        "# Ensure \"Name\" and \"Gender\" exist\n",
        "if \"Name\" not in Final.columns or \"Gender\" not in Final.columns:\n",
        "    raise KeyError(\"Columns 'Name' or 'Gender' not found!\")\n",
        "\n",
        "# Strip leading and trailing spaces from the 'Name' column\n",
        "Final['Name'] = Final['Name'].str.strip()\n",
        "\n",
        "# Check if there are any empty or NaN values in 'Name'\n",
        "if Final['Name'].isnull().any():\n",
        "    print(\"Warning: There are missing values in the 'Name' column.\")\n",
        "\n",
        "# Check if all names are empty or invalid\n",
        "empty_names = Final[Final['Name'] == '']\n",
        "if not empty_names.empty:\n",
        "    print(\"There are rows with empty 'Name' values:\")\n",
        "    print(empty_names)\n",
        "\n",
        "# Split 'Name' into 'First Name' and 'Last Name', handling cases with missing parts\n",
        "split_names = Final['Name'].str.split(n=1, expand=True)\n",
        "\n",
        "# Check if the split operation worked\n",
        "print(\"Shape of split_names after split:\", split_names.shape)\n",
        "\n",
        "# If split did not produce two columns, handle differently\n",
        "if split_names.shape[1] == 2:\n",
        "    split_names.columns = ['First Name', 'Last Name']\n",
        "    split_names['Last Name'] = split_names['Last Name'].fillna('')\n",
        "else:\n",
        "    print(\"Warning: Split did not result in two columns. Handling single-name cases.\")\n",
        "\n",
        "# Add \"Mr.\" or \"Mrs.\" to the 'First Name' column based on 'Gender'\n",
        "Final[\"First Name\"] = split_names['First Name']\n",
        "Final[\"Last Name\"] = split_names['Last Name']\n",
        "Final[\"First Name\"] = Final.apply(lambda row: f\"Mr. {row['First Name']}\" if row[\"Gender\"].strip().upper() == \"M\" else f\"Mrs. {row['First Name']}\", axis=1)\n",
        "\n",
        "# Drop the \"Gender\" and \"Name\" columns\n",
        "Final.drop(columns=[\"Gender\", \"Name\"], inplace=True)\n",
        "\n",
        "# Display the updated DataFrame\n",
        "print(Final.head())\n",
        "\n",
        "# Save the updated file\n",
        "updated_final_path = \"/content/drive/My Drive/Python Capstone - Skillovilla/Final_With_Titles.csv\"\n",
        "Final.to_csv(updated_final_path, index=False)\n",
        "print(f\"Updated dataset saved as '{updated_final_path}'\")\n"
      ],
      "metadata": {
        "colab": {
          "base_uri": "https://localhost:8080/"
        },
        "id": "nbGZxfQSBk6B",
        "outputId": "ea4ff2ab-49e7-4f7d-882c-fa1e17b18f24"
      },
      "execution_count": 43,
      "outputs": [
        {
          "output_type": "stream",
          "name": "stdout",
          "text": [
            "Actual columns in dataset: ['ID', 'Name', 'Gender', 'City', 'Age', 'Project', 'Cost', 'Status', 'Designation  Level', 'Bonus']\n",
            "First few rows of the dataset:\n",
            "     ID             Name Gender     City  Age    Project     Cost    Status  \\\n",
            "0  A001       John Alter      M    Paris   25  Project 1  1002000  Finished   \n",
            "1  A002  Alice Luxumberg      F   London   27  Project 2  2000000   Ongoing   \n",
            "2  A003    Tom Sabestine      M   Berlin   29  Project 3  4500000  Finished   \n",
            "3  A004       Nina Adgra      F  Newyork   31  Project 4  5500000   Ongoing   \n",
            "4  A005        Amy Johny      F   Madrid   30  Project 5  3250500  Finished   \n",
            "\n",
            "   Designation  Level  Bonus  \n",
            "0                   2    NaN  \n",
            "1                   2    NaN  \n",
            "2                   3    NaN  \n",
            "3                   2    NaN  \n",
            "4                   3    NaN  \n",
            "Checking for leading/trailing spaces in 'Name' column:\n",
            "0         John Alter\n",
            "1    Alice Luxumberg\n",
            "2      Tom Sabestine\n",
            "3         Nina Adgra\n",
            "4          Amy Johny\n",
            "Name: Name, dtype: object\n",
            "Shape of split_names after split: (5, 2)\n",
            "     ID     City  Age    Project     Cost    Status  Designation  Level  \\\n",
            "0  A001    Paris   25  Project 1  1002000  Finished                   2   \n",
            "1  A002   London   27  Project 2  2000000   Ongoing                   2   \n",
            "2  A003   Berlin   29  Project 3  4500000  Finished                   3   \n",
            "3  A004  Newyork   31  Project 4  5500000   Ongoing                   2   \n",
            "4  A005   Madrid   30  Project 5  3250500  Finished                   3   \n",
            "\n",
            "   Bonus  First Name  Last Name  \n",
            "0    NaN    Mr. John      Alter  \n",
            "1    NaN  Mrs. Alice  Luxumberg  \n",
            "2    NaN     Mr. Tom  Sabestine  \n",
            "3    NaN   Mrs. Nina      Adgra  \n",
            "4    NaN    Mrs. Amy      Johny  \n",
            "Updated dataset saved as '/content/drive/My Drive/Python Capstone - Skillovilla/Final_With_Titles.csv'\n"
          ]
        }
      ]
    },
    {
      "cell_type": "markdown",
      "source": [
        "**Task 8**\n",
        "\n",
        "Promote designation level by 1 for the employees whose age is more than 29 years using\n",
        "IF condition."
      ],
      "metadata": {
        "id": "g-bBOqG1Fv_z"
      }
    },
    {
      "cell_type": "code",
      "source": [
        "import pandas as pd\n",
        "\n",
        "# Load the Final dataframe\n",
        "final_file_path = \"/content/drive/My Drive/Python Capstone - Skillovilla/Final_Demoted.csv\"\n",
        "Final = pd.read_csv(final_file_path)\n",
        "\n",
        "# Print actual column names\n",
        "print(\"Actual columns in dataset:\", Final.columns.tolist())  # Debugging step\n",
        "\n",
        "# Strip spaces from column names\n",
        "Final.columns = Final.columns.str.strip()\n",
        "\n",
        "# Check if the dataset is empty\n",
        "if Final.empty:\n",
        "    print(\"The dataset is empty. Please check the CSV file.\")\n",
        "else:\n",
        "    # Check the first few rows to ensure 'Name' column is correctly read\n",
        "    print(\"First few rows of the dataset:\")\n",
        "    print(Final.head())\n",
        "\n",
        "    # Ensure the 'Age' and 'Designation Level' columns exist\n",
        "    if \"Age\" not in Final.columns or \"Designation  Level\" not in Final.columns:\n",
        "        raise KeyError(\"Columns 'Age' or 'Designation Level' not found!\")\n",
        "\n",
        "    # Promote 'Designation Level' by 1 if 'Age' > 29 using an IF condition\n",
        "    Final['Designation  Level'] = Final.apply(\n",
        "        lambda row: row['Designation  Level'] + 1 if row['Age'] > 29 else row['Designation  Level'],\n",
        "        axis=1\n",
        "    )\n",
        "\n",
        "    # Display the updated DataFrame\n",
        "    print(Final.head())\n",
        "\n",
        "    # Save the updated file\n",
        "    updated_final_path = \"/content/drive/My Drive/Python Capstone - Skillovilla/Final_With_Promotions.csv\"\n",
        "    Final.to_csv(updated_final_path, index=False)\n",
        "    print(f\"Updated dataset saved as '{updated_final_path}'\")\n"
      ],
      "metadata": {
        "colab": {
          "base_uri": "https://localhost:8080/"
        },
        "id": "u0SiMVfcF2kC",
        "outputId": "c48334be-6613-4194-baf2-e05a0e3bb71f"
      },
      "execution_count": 44,
      "outputs": [
        {
          "output_type": "stream",
          "name": "stdout",
          "text": [
            "Actual columns in dataset: ['ID', 'Name', 'Gender', 'City', 'Age', 'Project', 'Cost', 'Status', 'Designation  Level', 'Bonus']\n",
            "First few rows of the dataset:\n",
            "     ID             Name Gender     City  Age    Project     Cost    Status  \\\n",
            "0  A001       John Alter      M    Paris   25  Project 1  1002000  Finished   \n",
            "1  A002  Alice Luxumberg      F   London   27  Project 2  2000000   Ongoing   \n",
            "2  A003    Tom Sabestine      M   Berlin   29  Project 3  4500000  Finished   \n",
            "3  A004       Nina Adgra      F  Newyork   31  Project 4  5500000   Ongoing   \n",
            "4  A005        Amy Johny      F   Madrid   30  Project 5  3250500  Finished   \n",
            "\n",
            "   Designation  Level  Bonus  \n",
            "0                   2    NaN  \n",
            "1                   2    NaN  \n",
            "2                   3    NaN  \n",
            "3                   2    NaN  \n",
            "4                   3    NaN  \n",
            "     ID             Name Gender     City  Age    Project     Cost    Status  \\\n",
            "0  A001       John Alter      M    Paris   25  Project 1  1002000  Finished   \n",
            "1  A002  Alice Luxumberg      F   London   27  Project 2  2000000   Ongoing   \n",
            "2  A003    Tom Sabestine      M   Berlin   29  Project 3  4500000  Finished   \n",
            "3  A004       Nina Adgra      F  Newyork   31  Project 4  5500000   Ongoing   \n",
            "4  A005        Amy Johny      F   Madrid   30  Project 5  3250500  Finished   \n",
            "\n",
            "   Designation  Level  Bonus  \n",
            "0                   2    NaN  \n",
            "1                   2    NaN  \n",
            "2                   3    NaN  \n",
            "3                   3    NaN  \n",
            "4                   4    NaN  \n",
            "Updated dataset saved as '/content/drive/My Drive/Python Capstone - Skillovilla/Final_With_Promotions.csv'\n"
          ]
        }
      ]
    },
    {
      "cell_type": "markdown",
      "source": [
        "**Task 9**\n",
        "\n",
        "Add the cost of all projects for each Employee and save it in new dataframe\n",
        "“TotalProjCost” with three columns ID, First Name, and Total cost\n"
      ],
      "metadata": {
        "id": "Vuu3DtQXGBiW"
      }
    },
    {
      "cell_type": "code",
      "source": [
        "import pandas as pd\n",
        "\n",
        "# Load the Final dataframe\n",
        "final_file_path = \"/content/drive/My Drive/Python Capstone - Skillovilla/Final_Demoted.csv\"\n",
        "Final = pd.read_csv(final_file_path)\n",
        "\n",
        "# Strip spaces from column names\n",
        "Final.columns = Final.columns.str.strip()\n",
        "\n",
        "# Check if the dataset is empty\n",
        "if Final.empty:\n",
        "    print(\"The dataset is empty. Please check the CSV file.\")\n",
        "else:\n",
        "    # Ensure the 'Name' column exists and split it into 'First Name' and 'Last Name'\n",
        "    if \"Name\" not in Final.columns:\n",
        "        raise KeyError(\"Column 'Name' not found!\")\n",
        "\n",
        "    # Split the 'Name' column into 'First Name' and 'Last Name'\n",
        "    Final[['First Name', 'Last Name']] = Final['Name'].str.split(n=1, expand=True)\n",
        "\n",
        "    # Check if 'First Name' column is populated\n",
        "    print(\"First few rows of 'First Name' column:\")\n",
        "    print(Final['First Name'].head())\n",
        "\n",
        "    # Ensure the 'ID' and 'Cost' columns exist\n",
        "    if \"ID\" not in Final.columns or \"Cost\" not in Final.columns:\n",
        "        raise KeyError(\"Columns 'ID' or 'Cost' not found!\")\n",
        "\n",
        "    # Group by 'ID' and calculate the total cost for each employee\n",
        "    total_proj_cost = Final.groupby(['ID', 'First Name'], as_index=False)['Cost'].sum()\n",
        "\n",
        "    # Rename columns for clarity\n",
        "    total_proj_cost.rename(columns={'Cost': 'Total cost'}, inplace=True)\n",
        "\n",
        "    # Display the new dataframe with total project costs\n",
        "    print(\"Total project costs for each employee:\")\n",
        "    print(total_proj_cost.head())\n",
        "\n",
        "    # Save the new dataframe to a CSV file\n",
        "    total_proj_cost_path = \"/content/drive/My Drive/Python Capstone - Skillovilla/TotalProjCost.csv\"\n",
        "    total_proj_cost.to_csv(total_proj_cost_path, index=False)\n",
        "    print(f\"Total project costs saved as '{total_proj_cost_path}'\")\n"
      ],
      "metadata": {
        "colab": {
          "base_uri": "https://localhost:8080/"
        },
        "id": "b-F5w8AfGFDB",
        "outputId": "561d3322-dbaf-4343-ae53-b0922657c2b3"
      },
      "execution_count": 46,
      "outputs": [
        {
          "output_type": "stream",
          "name": "stdout",
          "text": [
            "First few rows of 'First Name' column:\n",
            "0     John\n",
            "1    Alice\n",
            "2      Tom\n",
            "3     Nina\n",
            "4      Amy\n",
            "Name: First Name, dtype: object\n",
            "Total project costs for each employee:\n",
            "     ID First Name  Total cost\n",
            "0  A001       John     1002000\n",
            "1  A002      Alice     2000000\n",
            "2  A003        Tom     4500000\n",
            "3  A004       Nina     5500000\n",
            "4  A005        Amy     3250500\n",
            "Total project costs saved as '/content/drive/My Drive/Python Capstone - Skillovilla/TotalProjCost.csv'\n"
          ]
        }
      ]
    },
    {
      "cell_type": "markdown",
      "source": [
        "**Task 10**\n",
        "\n",
        "Print all the employee details whose city name contains the letter “o” in it"
      ],
      "metadata": {
        "id": "fk8XDYFEHsKn"
      }
    },
    {
      "cell_type": "code",
      "source": [
        "import pandas as pd\n",
        "\n",
        "# Load the Final dataframe\n",
        "final_file_path = \"/content/drive/My Drive/Python Capstone - Skillovilla/Final_Demoted.csv\"\n",
        "Final = pd.read_csv(final_file_path)\n",
        "\n",
        "# Strip spaces from column names\n",
        "Final.columns = Final.columns.str.strip()\n",
        "\n",
        "# Check if the dataset is empty\n",
        "if Final.empty:\n",
        "    print(\"The dataset is empty. Please check the CSV file.\")\n",
        "else:\n",
        "    # Ensure the 'City' column exists\n",
        "    if \"City\" not in Final.columns:\n",
        "        raise KeyError(\"Column 'City' not found!\")\n",
        "\n",
        "    # Filter employees whose city contains the letter 'o'\n",
        "    employees_with_o = Final[Final['City'].str.contains('o', case=False, na=False)]\n",
        "\n",
        "    # Display the filtered results\n",
        "    print(\"Employees whose city contains the letter 'o':\")\n",
        "    print(employees_with_o)\n",
        "\n",
        "    # Optionally, save the filtered results to a new CSV file\n",
        "    filtered_file_path = \"/content/drive/My Drive/Python Capstone - Skillovilla/Employees_With_O_in_City.csv\"\n",
        "    employees_with_o.to_csv(filtered_file_path, index=False)\n",
        "    print(f\"Filtered employee details saved as '{filtered_file_path}'\")\n"
      ],
      "metadata": {
        "colab": {
          "base_uri": "https://localhost:8080/"
        },
        "id": "wgsLTZiZHvI8",
        "outputId": "a036ba60-9f5f-4b1a-a24f-a8b220a865d0"
      },
      "execution_count": 47,
      "outputs": [
        {
          "output_type": "stream",
          "name": "stdout",
          "text": [
            "Employees whose city contains the letter 'o':\n",
            "     ID             Name Gender     City  Age    Project     Cost   Status  \\\n",
            "1  A002  Alice Luxumberg      F   London   27  Project 2  2000000  Ongoing   \n",
            "3  A004       Nina Adgra      F  Newyork   31  Project 4  5500000  Ongoing   \n",
            "\n",
            "   Designation  Level  Bonus  \n",
            "1                   2    NaN  \n",
            "3                   2    NaN  \n",
            "Filtered employee details saved as '/content/drive/My Drive/Python Capstone - Skillovilla/Employees_With_O_in_City.csv'\n"
          ]
        }
      ]
    }
  ]
}